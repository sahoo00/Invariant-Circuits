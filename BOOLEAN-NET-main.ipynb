{
 "cells": [
  {
   "cell_type": "code",
   "execution_count": 1,
   "id": "3f8e853d",
   "metadata": {},
   "outputs": [
    {
     "data": {
      "text/plain": [
       "<module 'bone' from '/booleanfs2/sahoo/BoNE/bone.py'>"
      ]
     },
     "execution_count": 1,
     "metadata": {},
     "output_type": "execute_result"
    }
   ],
   "source": [
    "import cv2\n",
    "import re\n",
    "import numpy as np\n",
    "import pandas as pd\n",
    "import seaborn as sns\n",
    "import collections\n",
    "import sys\n",
    "import time\n",
    "import networkx as nx\n",
    "from functools import reduce\n",
    "from pyvis.network import Network\n",
    "from functools import reduce\n",
    "from networkx.algorithms.dag import transitive_reduction\n",
    "sys.path.append(\"/booleanfs2/sahoo/Hegemon/\")\n",
    "sys.path = [\"/booleanfs2/sahoo/BoNE/\"] + sys.path\n",
    "import HegemonUtil as hu\n",
    "\n",
    "try:\n",
    "    reload  # Python 2.7\n",
    "except NameError:\n",
    "    try:\n",
    "        from importlib import reload  # Python 3.4+\n",
    "    except ImportError:\n",
    "        from imp import reload  # Python 3.0 - 3.3\n",
    "\n",
    "import BNETUtils as BU\n",
    "import bone\n",
    "reload(BU)\n",
    "reload(hu)\n",
    "reload(bone)"
   ]
  },
  {
   "cell_type": "code",
   "execution_count": 2,
   "id": "a57358f1",
   "metadata": {},
   "outputs": [],
   "source": [
    "# define three groups of functional, dysfunctional and shared   \n",
    "fn_n=['CLU','SPP1','UCMA','GDF5','CLEC3A','CA2','HP','DUSP2','ZNF385B','MT1G','FBXO2','EFHD1','AURKB','UCP2','H2AC14','H2AC17','TENT5B','NIM1K','DLK1','GRP','CCN6','CNMD','BTC','IHH','WIF1','SFRP5','IBSP','MYBPC2','AGTR2','KCTD4','OSR2','SOX9','AGR2','NOTUM','WNK4','KIF1A','LIX1','RAPGEF4','COMP','BSN','COL2A1','MMP13','COL11A1','ACAN','COL9A1','FMOD','CADM2','MATN3','MPZL2','VEGFA','CDH15','FN1','SERPINA1','ITIH6','RAC2','SNORA7A','S100P','TINAGL1','TGFA','ADRB2','CDC45','MCOLN2','SNORA8','FERMT1','CRYBA2']+['AGR2', 'CCDC26', 'SLCO2B1', 'ACRBP', 'MYL4', 'PHOSPHO1', 'H1-4']\n",
    "dysf_n=['DDIT4','CALM2','CTHRC1','LAPTM4A','MYL6','ANXA2','B2M','LGALS1','CD86','ACTB','COL1A1','CD99','CORT','SLITRK6','METTL11B','LHX8','COL6A1','IFITM3','ANXA5','CCN2','ITM2B','CXCL14','SLIT3','MDK','SERPINF1','SFRP2','RARRES2','PTN','SFRP4','THY1','PDGFRB','RUNX2','PRRX1','JUNB','CDH5','DPEP1','ALPL','ISG15','CTSK','FTL','MMP2','ACTA2','LUM','COL3A1','COL6A3','PCOLCE','COL1A2','MFAP2','MXRA8','BGN','FBLN1','ASPN','POSTN','TAGLN','DCN','IL11RA','HEPN1','WNT5A','CCN5','IL34','BMPR1A','ACVRL1','TGFB3']+['MRFAP1', 'PRSS23', 'MYL9', 'TNFRSF14', 'RILP', 'ANXA5', 'NUPR1', 'ZNF106']\n",
    "sh_n=['LIF','MSLN','IL7','CXCL12','GLI3','SMO','IGF2','IGF1','FGF7','ANGPT1','GRB2','EGFR','CSF1R','CD47','BMPR1B','NOTCH3','LRP5','KDR','ATF2','RUNX1','PRRX2','FBXO7','CPEB1','FAM104A','RRBP1','TENT2','FTH1','PRELP','ACTA1','GLI1','GLI2','TNXA','CLDN5','IL11','CCL19','LBP']+ ['RIPK3', 'HECTD2', 'BACE1', 'ANGPT1', 'DIP2C', 'ITSN1', 'OSMR', 'B3GNT8']\n"
   ]
  },
  {
   "cell_type": "code",
   "execution_count": 3,
   "id": "58d5d3d2",
   "metadata": {},
   "outputs": [],
   "source": [
    "# Find the best probe ids for genes whose symbols are found in the global dataset (GL1) and store unavailable genes in BU.NAG\n",
    "db = hu.Database(\"/booleanfs2/sahoo/Hegemon/explore.conf\")\n",
    "h = hu.Hegemon(db.getDataset(\"GL1\"))\n",
    "h.init()\n",
    "h.initPlatform()\n",
    "\n",
    "\n",
    "\n",
    "BU.NAG=[]\n",
    "\n",
    "BP_available=BU.BESTID(fn_n+sh_n+dysf_n) # Find the best probeId for each gene"
   ]
  },
  {
   "cell_type": "code",
   "execution_count": 4,
   "id": "5b3dfc88",
   "metadata": {},
   "outputs": [
    {
     "name": "stdout",
     "output_type": "stream",
     "text": [
      "querying 1-19...done.\n",
      "Finished.\n",
      "1 input query terms found no hit:\n",
      "\t['METTL11B']\n",
      "Pass \"returnall=True\" to return complete lists of duplicate or missing query terms.\n"
     ]
    }
   ],
   "source": [
    "# Check which aliases are available in the dataset for each unavaiable gene, and update each group with the best probeid for each alias \n",
    "Alias_NAG=BU.add_aliases_set(BU.NAG)\n",
    "\n",
    "update_nag=[]\n",
    "updated_fn=[]\n",
    "updated_sh=[]\n",
    "updated_dys=[]\n",
    "for k in Alias_NAG:\n",
    "    for i in Alias_NAG[k]:\n",
    "        j=h.getBestID(h.getIDs(i).keys())\n",
    "        if j is not None:\n",
    "            update_nag.append((k,i))\n",
    "            if k in dysf_n:\n",
    "                updated_dys.append(i)\n",
    "            elif k in fn_n:\n",
    "                updated_fn.append(i)\n",
    "            else:\n",
    "                updated_sh.append(i)\n",
    "                \n",
    "# Get the unavailable genes' best IDs                \n",
    "BP_unavailable=BU.BESTID(updated_sh+updated_fn+updated_dys)\n",
    "\n",
    "fn_n=fn_n+updated_fn\n",
    "dysf_n=dysf_n+updated_dys\n",
    "sh_n=sh_n+updated_sh\n",
    "\n",
    "\n",
    "BP_available.update(BP_unavailable)\n"
   ]
  },
  {
   "cell_type": "code",
   "execution_count": 5,
   "id": "16fdcf15",
   "metadata": {},
   "outputs": [],
   "source": [
    "# Boolean relationships between genes are stored as matrices based on the two different Boolean thresholds (p(error rate = 0.1 or 0.15))\n",
    "# Each element of matrxi is 0 (NO Boolean relationships) or a number associated with THE six different types of Boolean relationships between pairs of genes:\n",
    "# 1: LOW-HIGH (lohi), \n",
    "# 2: LOW-LOW (lolo)\n",
    "# 3: HIGH-HIGH (hihi)   \n",
    "# 4: HIGH-LOW (hilo)\n",
    "# 5: Equivalent (eqv)\n",
    "# 6: Opposite (opo)\n",
    "\n",
    "\n",
    "cfile = \"Global-net-3-0.15.rl\"\n",
    "net = bone.BINetwork(cfile)\n",
    "net.init()\n",
    "\n",
    "\n",
    "balanced_ids = {k: v for k,v in BP_available.items() if v in list(net.balanced)}\n",
    "balanced_ids,balanced_ids\n",
    "tbl_h15=BU.relmatrix(balanced_ids,balanced_ids,net,\"BestID_3-0.15_relmatrix.txt\")\n",
    "\n",
    "#---------------\n",
    "cfile = \"Global-net-3-0.1.rl\"\n",
    "net = bone.BINetwork(cfile)\n",
    "net.init()\n",
    "\n",
    "balanced_ids = {k: v for k,v in BP_available.items() if v in list(net.balanced)}\n",
    "balanced_ids,balanced_ids\n",
    "tbl_h1=BU.relmatrix(balanced_ids,balanced_ids,net,\"BestID_3-0.10_relmatrix.txt\")\n"
   ]
  },
  {
   "cell_type": "code",
   "execution_count": 6,
   "id": "f63f80e0",
   "metadata": {},
   "outputs": [
    {
     "data": {
      "text/plain": [
       "5352"
      ]
     },
     "execution_count": 6,
     "metadata": {},
     "output_type": "execute_result"
    }
   ],
   "source": [
    "\n",
    "presenting_probes=list(tbl_h1.columns) # presenting_probes=presenting_genes+\"#\"+last three digits of probeID\n",
    "presenting_genes=set(map(lambda i:i.split('#')[0], presenting_probes)) #  gene symbols\n",
    "dysf = [i for i in presenting_probes if i.split('#')[0] in dysf_n and i.split('#')[0] not in sh_n ] #dys= genes associated to dysfunctional\n",
    "fn = [i for i in presenting_probes if i.split('#')[0] in fn_n and i.split('#')[0] not in sh_n ] # fn= genes associated to functional \n",
    "shared = [i for i in presenting_probes if i.split('#')[0] in sh_n ] # Neither functional nor dysfunctional \n",
    "\n",
    "\n",
    "\n",
    "nodes = set()\n",
    "l = len(tbl_h15)\n",
    "edges = []\n",
    "\n",
    "for i in range(0, l):\n",
    "    for j in range(i + 1, l):\n",
    "            if (int(tbl_h1.iloc[i,j]) == 5) and (int(tbl_h15.iloc[i,j]) == 5): #  When an element in both matrices is 5 at the same time, two genes have equivalent relations\n",
    "                list_edge_h = int(tbl_h1.iloc[i,j])\n",
    "            elif int(tbl_h15.iloc[i,j]) != 5: \n",
    "                list_edge_h = int(tbl_h15.iloc[i,j])\n",
    "            else:\n",
    "                list_edge_h = int(tbl_h1.iloc[i,j])\n",
    "            if list_edge_h != 0:\n",
    "                edges.append((tbl_h15.index[j], tbl_h15.index[i], str(list_edge_h))) # x,y,Boolean relationships between (x,y)\n",
    "                nodes.add(tbl_h15.index[j]) \n",
    "                nodes.add(tbl_h15.index[i])\n",
    "\n",
    "len(edges)"
   ]
  },
  {
   "cell_type": "code",
   "execution_count": 7,
   "id": "4a842d1b",
   "metadata": {},
   "outputs": [],
   "source": [
    "# Create an object from the class of Gene, defined in BNETUtils.py\n",
    "\n",
    "genes = BU.create(edges, fn, dysf)  \n",
    "\n"
   ]
  },
  {
   "cell_type": "code",
   "execution_count": 8,
   "id": "1eac2438",
   "metadata": {
    "scrolled": true
   },
   "outputs": [
    {
     "name": "stdout",
     "output_type": "stream",
     "text": [
      "(ZNF385B#019, func)\n",
      "(CLU#792, func)\n",
      "(FBXO2#305, func)\n",
      "(EFHD1#343, func)\n",
      "(IHH#358, func)\n",
      "(WIF1#712, func)\n",
      "(MYBPC2#394, func)\n",
      "(KCTD4#787, func)\n",
      "(KIF1A#482, func)\n",
      "(LIX1#865, func)\n",
      "(RAPGEF4#651, func)\n",
      "(BSN#586, func)\n",
      "(COL2A1#492, func)\n",
      "(CADM2#754, func)\n",
      "(CCDC26#849, func)\n",
      "(MYL4#395, func)\n",
      "(PHOSPHO1#218, func)\n",
      "(PRELP#223, shared)\n",
      "(TNXA#093, shared)\n",
      "(CLDN5#482, shared)\n",
      "(LBP#461, shared)\n",
      "(CALM2#243, dysfunc)\n",
      "(ACTB#594, dysfunc)\n",
      "(SLIT3#813, dysfunc)\n",
      "(PTN#466, dysfunc)\n",
      "(DPEP1#983, dysfunc)\n",
      "(FTL#788, dysfunc)\n",
      "(HIST1H1E#553, func)\n",
      "(WISP2#792, dysfunc)\n",
      "(ZNF474#907, dysfunc)\n",
      "(GRP#326, func)\n",
      "(SPP1#875, func)\n",
      "(COL11A1#892, func)\n",
      "(VEGFA#512, func)\n",
      "(ACRBP#717, func)\n",
      "(ANGPT1#939, shared)\n",
      "(FBXO7#178, shared)\n",
      "(FAM104A#319, shared)\n",
      "(ACTA1#872, shared)\n",
      "(B3GNT8#338, shared)\n",
      "(COL6A1#428, dysfunc)\n",
      "(ANXA5#782, dysfunc)\n",
      "(ITM2B#732, dysfunc)\n",
      "(HIST1H2AJ#583, func)\n",
      "(HIST1H2AM#583, func)\n",
      "(HP#697, func)\n",
      "(CLEC3A#802, func)\n",
      "(DUSP2#794, func)\n",
      "(AURKB#464, func)\n",
      "(DLK1#560, func)\n",
      "(BTC#412, func)\n",
      "(FN1#199, func)\n",
      "(MCOLN2#110, func)\n",
      "(FERMT1#796, func)\n",
      "(LIF#266, shared)\n",
      "(MSLN#885, shared)\n",
      "(IL7#693, shared)\n",
      "(GLI3#201, shared)\n",
      "(ATF2#984, shared)\n",
      "(OSMR#729, shared)\n",
      "(CD86#895, dysfunc)\n",
      "(LHX8#469, dysfunc)\n",
      "(MDK#035, dysfunc)\n",
      "(TGFB3#747, dysfunc)\n",
      "(CDC45L#126, func)\n",
      "(ZFP106#781, dysfunc)\n",
      "(CA2#301, func)\n",
      "(OSR2#568, func)\n",
      "(AGR2#173, func)\n",
      "(WNK4#158, func)\n",
      "(COMP#713, func)\n",
      "(MMP13#959, func)\n",
      "(ACAN#679, func)\n",
      "(COL9A1#008, func)\n",
      "(SERPINA1#429, func)\n",
      "(TINAGL1#058, func)\n",
      "(CRYBA2#136, func)\n",
      "(FGF7#741, shared)\n",
      "(BMPR1B#975, shared)\n",
      "(PRRX2#729, shared)\n",
      "(CPEB1#578, shared)\n",
      "(FTH1#748, shared)\n",
      "(GLI2#537, shared)\n",
      "(LAPTM4A#673, dysfunc)\n",
      "(MYL6#082, dysfunc)\n",
      "(B2M#891, dysfunc)\n",
      "(LGALS1#105, dysfunc)\n",
      "(CD99#029, dysfunc)\n",
      "(SLITRK6#481, dysfunc)\n",
      "(IFITM3#203, dysfunc)\n",
      "(SFRP2#122, dysfunc)\n",
      "(THY1#851, dysfunc)\n",
      "(PRRX1#695, dysfunc)\n",
      "(CTSK#450, dysfunc)\n",
      "(MFAP2#417, dysfunc)\n",
      "(WNT5A#990, dysfunc)\n",
      "(TNFRSF14#354, dysfunc)\n",
      "(RILP#366, dysfunc)\n",
      "(PAPD4#761, shared)\n",
      "(FAM46B#518, func)\n",
      "(LECT1#309, func)\n",
      "(MT1G#745, func)\n",
      "(UCP2#998, func)\n",
      "(AGTR2#321, func)\n",
      "(SOX9#935, func)\n",
      "(FMOD#709, func)\n",
      "(MATN3#091, func)\n",
      "(MPZL2#780, func)\n",
      "(RAC2#603, func)\n",
      "(TGFA#016, func)\n",
      "(IGF2#409, shared)\n",
      "(IGF1#541, shared)\n",
      "(GRB2#049, shared)\n",
      "(EGFR#983, shared)\n",
      "(CD47#075, shared)\n",
      "(NOTCH3#238, shared)\n",
      "(LRP5#468, shared)\n",
      "(KDR#934, shared)\n",
      "(RRBP1#204, shared)\n",
      "(RIPK3#139, shared)\n",
      "(HECTD2#568, shared)\n",
      "(BACE1#462, shared)\n",
      "(DIP2C#504, shared)\n",
      "(ITSN1#776, shared)\n",
      "(CXCL14#484, dysfunc)\n",
      "(RARRES2#496, dysfunc)\n",
      "(SFRP4#051, dysfunc)\n",
      "(PDGFRB#273, dysfunc)\n",
      "(JUNB#473, dysfunc)\n",
      "(CDH5#677, dysfunc)\n",
      "(ALPL#783, dysfunc)\n",
      "(MMP2#069, dysfunc)\n",
      "(ACTA2#974, dysfunc)\n",
      "(PCOLCE#465, dysfunc)\n",
      "(COL1A2#403, dysfunc)\n",
      "(MXRA8#422, dysfunc)\n",
      "(BGN#905, dysfunc)\n",
      "(FBLN1#994, dysfunc)\n",
      "(ASPN#087, dysfunc)\n",
      "(POSTN#809, dysfunc)\n",
      "(TAGLN#547, dysfunc)\n",
      "(DCN#893, dysfunc)\n",
      "(ACVRL1#950, dysfunc)\n",
      "(PRSS23#458, dysfunc)\n",
      "(MYL9#058, dysfunc)\n",
      "(NUPR1#230, dysfunc)\n",
      "(WISP3#861, func)\n",
      "(CTGF#101, dysfunc)\n",
      "(S100P#351, func)\n",
      "(RUNX1#129, shared)\n",
      "(ISG15#483, dysfunc)\n",
      "(BMPR1A#32, dysfunc)\n",
      "(MRFAP1#091, dysfunc)\n",
      "(ADRB2#170, func)\n",
      "(CXCL12#687, shared)\n",
      "(SMO#29, shared)\n",
      "(CCL19#072, shared)\n",
      "(RUNX2#231, dysfunc)\n",
      "(COL6A3#438, dysfunc)\n",
      "(SFRP5#468, func)\n",
      "(SERPINF1#283, dysfunc)\n",
      "(NOTUM#649, func)\n",
      "(CDH15#328, func)\n",
      "(SLCO2B1#473, func)\n",
      "(CTHRC1#681, dysfunc)\n",
      "(ANXA2#590, dysfunc)\n",
      "(COL1A1#499, dysfunc)\n",
      "(LUM#744, dysfunc)\n",
      "(COL3A1#076, dysfunc)\n",
      "(IBSP#370, func)\n",
      "(C16orf77#046, dysfunc)\n",
      "(IL11RA#773, dysfunc)\n",
      "(CSF1R#104, shared)\n",
      "(DDIT4#887, dysfunc)\n",
      "done mg\n",
      "mg_eqv_gr= [['CDC45L#126', 'AURKB#464'], ['SFRP5#468', 'CDH15#328', 'IBSP#370']]\n",
      "mg_eqv_sh= []\n",
      "mg_eqv_per= [['PCOLCE#465', 'BGN#905', 'PDGFRB#273', 'MXRA8#422'], ['ACTA2#974', 'COL3A1#076', 'LUM#744', 'COL6A3#438', 'COL1A2#403', 'DCN#893', 'TAGLN#547', 'MYL9#058']]\n"
     ]
    }
   ],
   "source": [
    "# The genes have equivalent relationships to any genes from the shared group, clustered as a new node, and relabelled as a new shared gene\n",
    "genes_BU=genes\n",
    "df_beforeClustering=dysf\n",
    "fn_beforeClustering=fn\n",
    "res_sh_dys, res_sh_fn,res_sh_dys_fn,res_dys_fn = BU.find_final_clusters(genes)\n",
    "\n",
    "\n",
    "\n",
    "\n",
    "###\n",
    "\n",
    "###\n",
    "moved_and_shared_genes = reduce(lambda x, y: x + y, res_sh_dys_fn,[])\n",
    "dysf = [x for x in dysf if x not in moved_and_shared_genes]  # remove the new shared genes from the dysfunctional list\n",
    "fn =  [x for x in fn if x not in moved_and_shared_genes] # remove the new shared genes from the functional list\n",
    "\n",
    "\n",
    "edges_new,genes_cluster=BU.Update_edges_after_clustering(moved_and_shared_genes,res_sh_dys_fn, edges) # update the edges or relationships between genes\n"
   ]
  },
  {
   "cell_type": "code",
   "execution_count": 9,
   "id": "29c54269",
   "metadata": {},
   "outputs": [
    {
     "data": {
      "text/plain": [
       "defaultdict(None,\n",
       "            {'SFRP5#468': 'C16orf77#046_CDH15#328_IBSP#370_SFRP5#468',\n",
       "             'IBSP#370': 'C16orf77#046_CDH15#328_IBSP#370_SFRP5#468',\n",
       "             'C16orf77#046': 'C16orf77#046_CDH15#328_IBSP#370_SFRP5#468',\n",
       "             'CDH15#328': 'C16orf77#046_CDH15#328_IBSP#370_SFRP5#468',\n",
       "             'KDR#934': 'CDH5#677_KDR#934',\n",
       "             'CDH5#677': 'CDH5#677_KDR#934'})"
      ]
     },
     "execution_count": 9,
     "metadata": {},
     "output_type": "execute_result"
    }
   ],
   "source": [
    "genes_cluster"
   ]
  },
  {
   "cell_type": "code",
   "execution_count": 10,
   "id": "26ffa7a6",
   "metadata": {},
   "outputs": [],
   "source": [
    "# update the genes with new rels\n",
    "genes = BU.create(edges_new, fn, dysf)  \n"
   ]
  },
  {
   "cell_type": "code",
   "execution_count": 11,
   "id": "ce993c5d",
   "metadata": {},
   "outputs": [
    {
     "name": "stdout",
     "output_type": "stream",
     "text": [
      "DDIT4#887\n",
      "CALM2#243\n",
      "CTHRC1#681\n",
      "LAPTM4A#673\n",
      "MYL6#082\n",
      "ANXA2#590\n",
      "B2M#891\n",
      "LGALS1#105\n",
      "CD86#895\n",
      "ACTB#594\n",
      "COL1A1#499\n",
      "CD99#029\n",
      "SLITRK6#481\n",
      "LHX8#469\n",
      "COL6A1#428\n",
      "IFITM3#203\n",
      "ANXA5#782\n",
      "ITM2B#732\n",
      "CXCL14#484\n",
      "SLIT3#813\n",
      "MDK#035\n",
      "SERPINF1#283\n",
      "SFRP2#122\n",
      "RARRES2#496\n",
      "PTN#466\n",
      "SFRP4#051\n",
      "THY1#851\n",
      "PDGFRB#273\n",
      "RUNX2#231\n",
      "PRRX1#695\n",
      "JUNB#473\n",
      "DPEP1#983\n",
      "ALPL#783\n",
      "ISG15#483\n",
      "CTSK#450\n",
      "FTL#788\n",
      "MMP2#069\n",
      "ACTA2#974\n",
      "LUM#744\n",
      "COL3A1#076\n",
      "COL6A3#438\n",
      "PCOLCE#465\n",
      "COL1A2#403\n",
      "MFAP2#417\n",
      "MXRA8#422\n",
      "BGN#905\n",
      "FBLN1#994\n",
      "ASPN#087\n",
      "POSTN#809\n",
      "TAGLN#547\n",
      "DCN#893\n",
      "IL11RA#773\n",
      "WNT5A#990\n",
      "BMPR1A#32\n",
      "ACVRL1#950\n",
      "TGFB3#747\n",
      "MRFAP1#091\n",
      "PRSS23#458\n",
      "MYL9#058\n",
      "TNFRSF14#354\n",
      "RILP#366\n",
      "NUPR1#230\n",
      "CTGF#101\n",
      "WISP2#792\n",
      "ZFP106#781\n",
      "ZNF474#907\n",
      "(PRELP#223, shared)\n",
      "(TNXA#093, shared)\n",
      "(CLDN5#482, shared)\n",
      "(LBP#461, shared)\n",
      "(ANGPT1#939, shared)\n",
      "(FBXO7#178, shared)\n",
      "(FAM104A#319, shared)\n",
      "(ACTA1#872, shared)\n",
      "(B3GNT8#338, shared)\n",
      "(LIF#266, shared)\n",
      "(MSLN#885, shared)\n",
      "(IL7#693, shared)\n",
      "(GLI3#201, shared)\n",
      "(ATF2#984, shared)\n",
      "(OSMR#729, shared)\n",
      "(FGF7#741, shared)\n",
      "(BMPR1B#975, shared)\n",
      "(PRRX2#729, shared)\n",
      "(CPEB1#578, shared)\n",
      "(FTH1#748, shared)\n",
      "(GLI2#537, shared)\n",
      "(PAPD4#761, shared)\n",
      "(IGF2#409, shared)\n",
      "(IGF1#541, shared)\n",
      "(GRB2#049, shared)\n",
      "(EGFR#983, shared)\n",
      "(CD47#075, shared)\n",
      "(NOTCH3#238, shared)\n",
      "(LRP5#468, shared)\n",
      "(RRBP1#204, shared)\n",
      "(RIPK3#139, shared)\n",
      "(HECTD2#568, shared)\n",
      "(BACE1#462, shared)\n",
      "(DIP2C#504, shared)\n",
      "(ITSN1#776, shared)\n",
      "(RUNX1#129, shared)\n",
      "(CXCL12#687, shared)\n",
      "(SMO#29, shared)\n",
      "(CCL19#072, shared)\n",
      "(CSF1R#104, shared)\n",
      "(C16orf77#046_CDH15#328_IBSP#370_SFRP5#468, shared)\n",
      "(CDH5#677_KDR#934, shared)\n",
      "Elapsed 802.034 secs.\n"
     ]
    }
   ],
   "source": [
    "#1-find all chains of lolo pathways starting from shared or dysfunctional lists and ending with a gene from the dysfunctional list\n",
    "\n",
    "\n",
    "    \n",
    "BU.saved_dys =[]\n",
    "BU.saved_shared =[]\n",
    "BU.edge_write = []\n",
    "BU.nodes_in_path = []\n",
    "\n",
    "start = time.perf_counter()\n",
    "for g in dysf:\n",
    "    print(g)\n",
    "    g1 = genes[g]\n",
    "    g1.dfs('2', 'dysfunc', 1, [g1], [], lambda p, g: BU.lolo_path([], p,g, t_m='hilo'),'lolo')        \n",
    "        \n",
    "# print('all low-low pathways start with dysfunc list done')        \n",
    "for gg in genes.keys():\n",
    "    g1 = genes[gg]\n",
    "    if g1.ct != 'func' and g1.ct!='dysfunc' : # start from the shared list\n",
    "        print(g1.pretty())\n",
    "        g1.dfs('2', 'shared', 1, [g1], [], lambda p, g: BU.lolo_path([], p, g, t_m='hilo_shared'),'lolo')\n",
    "        g1.dfs('2', 'dysfunc', 1, [g1], [], lambda p, g: BU.lolo_path([], p, g, t_m='hilo'),'lolo')\n",
    "# print('all low-low pathways start with shared list and end with dysfunc list  done')          \n",
    "        \n",
    "end = time.perf_counter()\n",
    " \n",
    "# find elapsed time in seconds\n",
    "ms = (end-start) \n",
    "print(f\"Elapsed {ms:.03f} secs.\")        "
   ]
  },
  {
   "cell_type": "code",
   "execution_count": 12,
   "id": "2c9905bb",
   "metadata": {},
   "outputs": [
    {
     "name": "stdout",
     "output_type": "stream",
     "text": [
      "step3 done\n",
      "step4 done\n"
     ]
    }
   ],
   "source": [
    "## 2-APPLY transitive reduction algorithm on all lolo pathways (e.g. if a--lolo-->b and b--lolo-->c and a--lolo-->c, then we remove an edge shows a--lolo-->c)\n",
    "remaining_edges = BU.transitive_reduction_part(res_sh_dys_fn,genes_cluster)\n",
    "## 3- build network for the right side (a.k.a low-low pathways)\n",
    "g_right = nx.DiGraph() #g_final   DELETE COM.\n",
    "g_right = BU.build_net(g_right,remaining_edges,genes,genes_BU)\n"
   ]
  },
  {
   "cell_type": "code",
   "execution_count": 13,
   "id": "0e556f63",
   "metadata": {},
   "outputs": [
    {
     "name": "stdout",
     "output_type": "stream",
     "text": [
      "found it MYL9#058\n",
      "found it ACVRL1#950\n",
      "found it BMPR1A#32\n",
      "found it ACTA2#974\n",
      "found it TAGLN#547\n"
     ]
    }
   ],
   "source": [
    "impo_genes=[\"MYL9\",'FN1', 'ACVRL1', 'IHH', 'BMPR1A',\"ACTA2\",\"TAGLN\"] # genes that we are interested in \n",
    "\n",
    "attrs={}\n",
    "for s in impo_genes:\n",
    "    for n in g_right.nodes():\n",
    "        if s in n:\n",
    "            print('found it',n)\n",
    "            attrs[n]=g_right.nodes[n]"
   ]
  },
  {
   "cell_type": "code",
   "execution_count": 14,
   "id": "ce710a45",
   "metadata": {},
   "outputs": [
    {
     "data": {
      "text/plain": [
       "{'MYL9#058': {'label': '(MYL9#058, dysfunc)', 'size': 5, 'color': 'skyblue'},\n",
       " 'ACVRL1#950': {'label': '(ACVRL1#950, dysfunc)',\n",
       "  'size': 5,\n",
       "  'color': 'skyblue'},\n",
       " 'BMPR1A#32': {'label': '(BMPR1A#32, dysfunc)', 'size': 5, 'color': 'skyblue'},\n",
       " 'ACTA2#974': {'label': '(ACTA2#974, dysfunc)', 'size': 5, 'color': 'skyblue'},\n",
       " 'TAGLN#547': {'label': '(TAGLN#547, dysfunc)', 'size': 5, 'color': 'skyblue'}}"
      ]
     },
     "execution_count": 14,
     "metadata": {},
     "output_type": "execute_result"
    }
   ],
   "source": [
    "attrs\n",
    "\n"
   ]
  },
  {
   "cell_type": "code",
   "execution_count": 15,
   "id": "fad93590",
   "metadata": {},
   "outputs": [],
   "source": [
    "# make the size of important genes bigger\n",
    "attrs={\n",
    " 'ACVRL1#950': {'label': '(ACVRL1#950, per)', 'size':25, 'color': 'skyblue'},\n",
    " 'BMPR1A#32': {'label': '(BMPR1A#32, per)', 'size': 25, 'color': 'skyblue'},\n",
    "\n",
    "'MYL9#058': {'label': '(MYL9#058, per)', 'size': 25, 'color': 'skyblue'},\n",
    "\n",
    " 'ACTA2#974': {'label': 'ACTA2#974', 'size': 25, 'color': 'skyblue'},\n",
    " 'TAGLN#547': {'label': 'TAGLN#547', 'size': 25, 'color': 'skyblue'}}\n",
    "nx.set_node_attributes(g_right, attrs)"
   ]
  },
  {
   "cell_type": "code",
   "execution_count": 16,
   "id": "a8913c78",
   "metadata": {},
   "outputs": [
    {
     "data": {
      "text/html": [
       "\n",
       "        <iframe\n",
       "            width=\"500px\"\n",
       "            height=\"500px\"\n",
       "            src=\"BNET_lolo_right.html\"\n",
       "            frameborder=\"0\"\n",
       "            allowfullscreen\n",
       "            \n",
       "        ></iframe>\n",
       "        "
      ],
      "text/plain": [
       "<IPython.lib.display.IFrame at 0x7f379d813820>"
      ]
     },
     "execution_count": 16,
     "metadata": {},
     "output_type": "execute_result"
    }
   ],
   "source": [
    "# right network shows all chains of lolo pathways\n",
    "nt_right = Network(\"500px\", \"500px\", heading=\"LOLO-pathways\", notebook=True,cdn_resources='in_line')\n",
    "nt_right.from_nx(g_right)\n",
    "nt_right.show(\"BNET_lolo_right.html\")"
   ]
  },
  {
   "cell_type": "code",
   "execution_count": 17,
   "id": "e5424023",
   "metadata": {},
   "outputs": [
    {
     "data": {
      "text/plain": [
       "{'ACTA1#872',\n",
       " 'ANGPT1#939',\n",
       " 'B3GNT8#338',\n",
       " 'BACE1#462',\n",
       " 'BMPR1B#975',\n",
       " 'C16orf77#046_CDH15#328_IBSP#370_SFRP5#468',\n",
       " 'CCL19#072',\n",
       " 'CDH5#677_KDR#934',\n",
       " 'CLDN5#482',\n",
       " 'CPEB1#578',\n",
       " 'EGFR#983',\n",
       " 'FAM104A#319',\n",
       " 'FBXO7#178',\n",
       " 'GLI2#537',\n",
       " 'GLI3#201',\n",
       " 'GRB2#049',\n",
       " 'IGF2#409',\n",
       " 'IL7#693',\n",
       " 'ITSN1#776',\n",
       " 'LBP#461',\n",
       " 'LIF#266',\n",
       " 'MSLN#885',\n",
       " 'OSMR#729',\n",
       " 'PRELP#223',\n",
       " 'PRRX2#729',\n",
       " 'RIPK3#139',\n",
       " 'RUNX1#129',\n",
       " 'SMO#29',\n",
       " 'TNXA#093'}"
      ]
     },
     "execution_count": 17,
     "metadata": {},
     "output_type": "execute_result"
    }
   ],
   "source": [
    "## 4- check all nodes from the low-low graph g_right that have at least one outgoing edge (i.e., their out-degree is not zero)\n",
    "BU.g_right=g_right\n",
    "outdeg = g_right.out_degree()\n",
    "check_for_hilo_op = [n for n,v in set(outdeg) if v != 0]\n",
    "\n",
    "\n",
    "connecting_points,BU.edge_write_p,g_right_plus_hilo=BU.add_single_hilo_op(check_for_hilo_op, genes)\n",
    "connecting_points #potential genes from the right side network might connect right side to the leftside genes since we found a hilo for that\n",
    "\n"
   ]
  },
  {
   "cell_type": "code",
   "execution_count": 18,
   "id": "24feeeac",
   "metadata": {},
   "outputs": [
    {
     "name": "stdout",
     "output_type": "stream",
     "text": [
      "Local cdn resources have problems on chrome/safari when used in jupyter-notebook. \n"
     ]
    },
    {
     "data": {
      "text/html": [
       "\n",
       "        <iframe\n",
       "            width=\"800px\"\n",
       "            height=\"800px\"\n",
       "            src=\"BNET_lolo_plus_hilo.html\"\n",
       "            frameborder=\"0\"\n",
       "            allowfullscreen\n",
       "            \n",
       "        ></iframe>\n",
       "        "
      ],
      "text/plain": [
       "<IPython.lib.display.IFrame at 0x7f37a019ed00>"
      ]
     },
     "execution_count": 18,
     "metadata": {},
     "output_type": "execute_result"
    }
   ],
   "source": [
    "\n",
    "nt_right_plus = Network(\"800px\", \"800px\", heading=\"possible-sub_hilo+op\", notebook=True)\n",
    "nt_right_plus.from_nx(g_right_plus_hilo)\n",
    "nt_right_plus.show(\"BNET_lolo_plus_hilo.html\")"
   ]
  },
  {
   "cell_type": "code",
   "execution_count": 19,
   "id": "3b52ffdb",
   "metadata": {},
   "outputs": [],
   "source": [
    "## now, connect the right side network by adding hihi pathways.\n",
    "\n",
    "# we can use the same procedures by finding all lolo pathways end with functional gene. a --hihi--> b == b--lolo--> a (The contrapositive Boolean rel for hihi is lolo)\n",
    "BU.saved_gr=[]\n",
    "BU.edge_write_F=set([])\n",
    "BU.nodes_in_path_F=[]\n",
    "BU.success=set([])\n",
    "BU.nodes_in_path = list(set(BU.nodes_in_path))\n",
    "for g in connecting_points:\n",
    "    g1 = genes[g]\n",
    "    g1.dfs('2', 'func', 1, [g1], [], lambda p, g: BU.hihi_path([], p,g, t_m='hilo'),'lolo')   # connect a hilo edge to the chain of lolo with only functional genes     \n",
    "    \n",
    "for gg in genes.keys():\n",
    "    g1 = genes[gg]\n",
    "    if g1.ct != 'func' and g1.ct!='dysfunc' and g1.name in  connecting_points: # start from shared, connect a hilo edge to the chain of lolo with  functional and shared genes, starts with a shared gene  \n",
    "        g1.dfs('2', 'shared', 1, [g1], [], lambda p, g: BU.hihi_path([], p, g, t_m='hilo_shared'),'lolo')\n",
    "        g1.dfs('2', 'func', 1, [g1], [], lambda p, g: BU.hihi_path([], p, g, t_m='hilo'),'lolo')"
   ]
  },
  {
   "cell_type": "code",
   "execution_count": 20,
   "id": "4dd63d60",
   "metadata": {},
   "outputs": [
    {
     "name": "stdout",
     "output_type": "stream",
     "text": [
      "{'PRELP#223', 'CDH5#677_KDR#934', 'BACE1#462', 'RIPK3#139', 'PRRX2#729', 'DIP2C#504', 'BMPR1B#975', 'SMO#29', 'B3GNT8#338', 'GLI3#201', 'NOTCH3#238', 'C16orf77#046_CDH15#328_IBSP#370_SFRP5#468', 'EGFR#983', 'IGF1#541', 'RUNX1#129', 'HECTD2#568', 'CPEB1#578', 'ITSN1#776', 'FBXO7#178', 'GLI2#537', 'CLDN5#482', 'FAM104A#319', 'ACTA1#872', 'GRB2#049'}\n"
     ]
    }
   ],
   "source": [
    "print(BU.success)"
   ]
  },
  {
   "cell_type": "code",
   "execution_count": 21,
   "id": "21d0fbc9",
   "metadata": {},
   "outputs": [
    {
     "name": "stdout",
     "output_type": "stream",
     "text": [
      "step3 done\n",
      "step4 done\n"
     ]
    }
   ],
   "source": [
    "BU.edge_write=BU.edge_write_F\n",
    "BU.nodes_in_path_F=BU.nodes_in_path_F\n",
    "\n",
    "remaining_edges_left = BU.transitive_reduction_part(res_sh_dys_fn,genes_cluster)"
   ]
  },
  {
   "cell_type": "code",
   "execution_count": 22,
   "id": "87f98c53",
   "metadata": {},
   "outputs": [],
   "source": [
    "g_left = nx.DiGraph() \n",
    "g_left = BU.build_net(g_left,remaining_edges_left,genes,genes_BU)\n"
   ]
  },
  {
   "cell_type": "code",
   "execution_count": 23,
   "id": "b322fcbc",
   "metadata": {},
   "outputs": [
    {
     "name": "stdout",
     "output_type": "stream",
     "text": [
      "CDH5#677_KDR#934\n",
      "BACE1#462\n",
      "RIPK3#139\n",
      "PRRX2#729\n",
      "DIP2C#504\n",
      "BMPR1B#975\n",
      "SMO#29\n",
      "B3GNT8#338\n",
      "GLI3#201\n",
      "NOTCH3#238\n",
      "C16orf77#046_CDH15#328_IBSP#370_SFRP5#468\n",
      "EGFR#983\n",
      "IGF1#541\n",
      "RUNX1#129\n",
      "HECTD2#568\n",
      "CPEB1#578\n",
      "ITSN1#776\n",
      "FBXO7#178\n",
      "GLI2#537\n",
      "CLDN5#482\n",
      "FAM104A#319\n",
      "ACTA1#872\n",
      "GRB2#049\n"
     ]
    }
   ],
   "source": [
    "BU.success=list(BU.success)\n",
    "desc = nx.descendants(g_right_plus_hilo,  BU.success[0])\n",
    "paths = [path for p in desc for path in nx.all_simple_paths(g_right_plus_hilo,  BU.success[0], p)]\n",
    "paths\n",
    "for s in BU.success[1:]:\n",
    "    print(s)\n",
    "    desc = nx.descendants(g_right_plus_hilo,  s)\n",
    "    paths= paths +[path for p in desc for path in nx.all_simple_paths(g_right_plus_hilo,  s, p)]\n",
    "\n",
    "net_sub_T = nx.DiGraph()\n",
    "for p in paths:\n",
    "    nx.add_path(net_sub_T, p)    "
   ]
  },
  {
   "cell_type": "code",
   "execution_count": 24,
   "id": "021fca11",
   "metadata": {},
   "outputs": [],
   "source": [
    "\n",
    "G = g_right_plus_hilo\n",
    "H = net_sub_T # subnetwork with genes connecting the right_sub network to the functional network (left sub-network) \n",
    "R = G.copy()\n",
    "R.remove_nodes_from(n for n in G if n not in H)\n",
    "R.remove_edges_from(e for e in G.edges if e not in H.edges)"
   ]
  },
  {
   "cell_type": "code",
   "execution_count": 25,
   "id": "05170509",
   "metadata": {},
   "outputs": [],
   "source": [
    "Boolean_net_final =  nx.compose(g_left,R) "
   ]
  },
  {
   "cell_type": "code",
   "execution_count": 26,
   "id": "bb674f2d",
   "metadata": {},
   "outputs": [],
   "source": [
    "outdeg = Boolean_net_final.degree()\n",
    "set(outdeg)\n",
    "remove_hilo_alone = [n for n,v in set(outdeg) if v == 1]"
   ]
  },
  {
   "cell_type": "code",
   "execution_count": 27,
   "id": "ba745e60",
   "metadata": {},
   "outputs": [],
   "source": [
    "\n",
    "color=nx.get_edge_attributes(Boolean_net_final,'color')\n",
    "  \n",
    "remove=[n for n in remove_hilo_alone if len(Boolean_net_final.edges(n))==1 and color[list(Boolean_net_final.edges(n))[0]]=='red']\n",
    "remove\n",
    "\n",
    "for i in remove:\n",
    "    Boolean_net_final.remove_node(i)"
   ]
  },
  {
   "cell_type": "code",
   "execution_count": 28,
   "id": "6a346565",
   "metadata": {},
   "outputs": [
    {
     "name": "stdout",
     "output_type": "stream",
     "text": [
      "yes MYL9#058\n",
      "yes FN1#199\n",
      "yes ACVRL1#950\n",
      "yes IHH#358\n",
      "yes BMPR1A#32\n",
      "yes ACTA2#974\n",
      "yes TAGLN#547\n"
     ]
    }
   ],
   "source": [
    "attrs={}\n",
    "for s in impo_genes:\n",
    "    for n in Boolean_net_final.nodes():\n",
    "        if s in n:\n",
    "            print('yes',n)\n",
    "            attrs[n]=Boolean_net_final.nodes[n]"
   ]
  },
  {
   "cell_type": "code",
   "execution_count": 29,
   "id": "c42ab20b",
   "metadata": {},
   "outputs": [],
   "source": [
    "attrs={\n",
    " 'ACVRL1#950': {'label': '(ACVRL1#950, per)', 'size': 25, 'color': 'skyblue'},\n",
    " 'BMPR1A#32': {'label': '(BMPR1A#32, per)', 'size': 25, 'color': 'skyblue'},\n",
    "    'MYL9#058': {'label': '(MYL9#058, per)', 'size': 25, 'color': 'skyblue'},\n",
    " 'ACTA2#974': {'label': 'ACTA2#974', 'size': 25, 'color': 'skyblue'},\n",
    " 'TAGLN#547': {'label': 'TAGLN#547', 'size': 25, 'color': 'skyblue'},\n",
    " 'FN1#199': {'label': '(FN1#199, gr)', 'size': 25, 'color': 'lightgreen'},\n",
    " 'IHH#358': {'label': '(IHH#358, gr)', 'size': 25, 'color': 'lightgreen'}}\n"
   ]
  },
  {
   "cell_type": "code",
   "execution_count": 30,
   "id": "4bd5327b",
   "metadata": {},
   "outputs": [
    {
     "data": {
      "text/html": [
       "\n",
       "        <iframe\n",
       "            width=\"500px\"\n",
       "            height=\"500px\"\n",
       "            src=\"final_BNET.html\"\n",
       "            frameborder=\"0\"\n",
       "            allowfullscreen\n",
       "            \n",
       "        ></iframe>\n",
       "        "
      ],
      "text/plain": [
       "<IPython.lib.display.IFrame at 0x7f379f0933a0>"
      ]
     },
     "execution_count": 30,
     "metadata": {},
     "output_type": "execute_result"
    }
   ],
   "source": [
    "nx.set_node_attributes(Boolean_net_final, attrs)\n",
    "nt = Network(\"500px\", \"500px\", heading=\"BooleaN net-final\", notebook=True,cdn_resources='in_line')\n",
    "nt.from_nx(Boolean_net_final)\n",
    "\n",
    "nt.show(\"final_BNET.html\")\n"
   ]
  },
  {
   "cell_type": "code",
   "execution_count": 31,
   "id": "42087290",
   "metadata": {},
   "outputs": [],
   "source": [
    "\n",
    "color = nx.get_edge_attributes(Boolean_net_final, \"color\")\n",
    "edge_write_F_bin=[]\n",
    "for f,t in color:\n",
    "    rc=color[(f,t)]\n",
    "    r= \"2\" if rc=='navy' else \"3\" if rc=='green' else \"4\" if rc=='red' else \"5\" if  rc=='cyan' else '6'\n",
    "    info=','.join([ f,t, r])\n",
    "   \n",
    "    edge_write_F_bin.append(info)"
   ]
  },
  {
   "cell_type": "code",
   "execution_count": 32,
   "id": "6c192002",
   "metadata": {},
   "outputs": [
    {
     "data": {
      "text/plain": [
       "551"
      ]
     },
     "execution_count": 32,
     "metadata": {},
     "output_type": "execute_result"
    }
   ],
   "source": [
    "len(edge_write_F_bin)"
   ]
  },
  {
   "cell_type": "code",
   "execution_count": 33,
   "id": "ec3b226b",
   "metadata": {},
   "outputs": [
    {
     "data": {
      "text/plain": [
       "141"
      ]
     },
     "execution_count": 33,
     "metadata": {},
     "output_type": "execute_result"
    }
   ],
   "source": [
    "len(Boolean_net_final)  # 139 genes+ 2 clustered nodes"
   ]
  },
  {
   "cell_type": "code",
   "execution_count": 34,
   "id": "7d99a684",
   "metadata": {},
   "outputs": [
    {
     "name": "stdout",
     "output_type": "stream",
     "text": [
      "found PHOSPHO1#218\n",
      "found ACRBP#717\n",
      "found FBXO7#178\n",
      "found BMPR1A#32\n",
      "found MYL9#058\n",
      "found ACTA2#974\n",
      "found PDGFRB#273\n",
      "found CTSK#450\n",
      "found WISP2#792\n",
      "found IHH#358\n",
      "found FERMT1#796\n",
      "found SOX9#935\n",
      "found EGFR#983\n",
      "found TAGLN#547\n",
      "found ACVRL1#950\n",
      "found FN1#199\n"
     ]
    },
    {
     "data": {
      "text/plain": [
       "['PHOSPHO1#218',\n",
       " 'ACRBP#717',\n",
       " 'FBXO7#178',\n",
       " 'BMPR1A#32',\n",
       " 'MYL9#058',\n",
       " 'ACTA2#974',\n",
       " 'PDGFRB#273',\n",
       " 'CTSK#450',\n",
       " 'WISP2#792',\n",
       " 'IHH#358',\n",
       " 'FERMT1#796',\n",
       " 'SOX9#935',\n",
       " 'EGFR#983',\n",
       " 'TAGLN#547',\n",
       " 'ACVRL1#950',\n",
       " 'FN1#199']"
      ]
     },
     "execution_count": 34,
     "metadata": {},
     "output_type": "execute_result"
    }
   ],
   "source": [
    "# The genes selected for BTR\n",
    "impo_genes2=[\"PHOSPHO1\",\"ACRBP\",\"FBXO7\",\"BMPR1A\",\"MYL9\",\"ACTA2\",\"ACRVL1\",\"PDGFRB\",\"CTSK\",\"WISP2\",\"IHH\",\"FERMT1\",\"SOX9\",\"EGFR\",\"TAGLN\",\"ACVRL1\",\"FN1\"]\n",
    "Boolean_net_final2 = Boolean_net_final.copy()\n",
    "attrs=[]\n",
    "for s in impo_genes2:\n",
    "    for n in Boolean_net_final2.nodes():\n",
    "        if s in n:\n",
    "            print('found',n)\n",
    "            attrs.append(n)\n",
    "attrs"
   ]
  },
  {
   "cell_type": "code",
   "execution_count": null,
   "id": "518be8cd",
   "metadata": {},
   "outputs": [],
   "source": []
  },
  {
   "cell_type": "code",
   "execution_count": 35,
   "id": "5700aca8",
   "metadata": {},
   "outputs": [],
   "source": [
    "G = Boolean_net_final2\n",
    "R = G.copy()\n",
    "R.remove_nodes_from(n for n in G if n not in attrs)\n"
   ]
  },
  {
   "cell_type": "code",
   "execution_count": 36,
   "id": "67552a9d",
   "metadata": {},
   "outputs": [
    {
     "data": {
      "text/html": [
       "\n",
       "        <iframe\n",
       "            width=\"500px\"\n",
       "            height=\"500px\"\n",
       "            src=\"subnetwork_impogenes.html\"\n",
       "            frameborder=\"0\"\n",
       "            allowfullscreen\n",
       "            \n",
       "        ></iframe>\n",
       "        "
      ],
      "text/plain": [
       "<IPython.lib.display.IFrame at 0x7f3799742a30>"
      ]
     },
     "execution_count": 36,
     "metadata": {},
     "output_type": "execute_result"
    }
   ],
   "source": [
    "nt = Network(\"500px\", \"500px\", heading=\"BooleaNet subnet\", notebook=True,cdn_resources='in_line')\n",
    "nt.from_nx(R)\n",
    "nt.show(\"subnetwork_impogenes.html\")"
   ]
  },
  {
   "cell_type": "code",
   "execution_count": 37,
   "id": "09879e52",
   "metadata": {},
   "outputs": [
    {
     "data": {
      "text/plain": [
       "{('ACTA2#974', 'ACVRL1#950', 2),\n",
       " ('BMPR1A#32', 'ACTA2#974', 2),\n",
       " ('BMPR1A#32', 'ACVRL1#950', 2),\n",
       " ('BMPR1A#32', 'MYL9#058', 2),\n",
       " ('BMPR1A#32', 'TAGLN#547', 2),\n",
       " ('TAGLN#547', 'ACVRL1#950', 2)}"
      ]
     },
     "execution_count": 37,
     "metadata": {},
     "output_type": "execute_result"
    }
   ],
   "source": [
    "# Add some edges between important genes that are removed by transitive resuction algo.\n",
    "cfile = \"Global-net-3-0.15.rl\"\n",
    "net = bone.BINetwork(cfile)\n",
    "net.init()\n",
    "ids={\n",
    "                'ACVRL1#950': '226950_at',\n",
    " 'BMPR1A#32': '204832_s_at',\n",
    " 'ACTA2#974': '200974_at',\n",
    " 'TAGLN#547': '205547_s_at',\n",
    "    'MYL9#058': '201058_s_at',\n",
    "              }\n",
    "\n",
    "\n",
    "lolo_edges=set([])\n",
    "for k_i, i in ids.items(): # k_iname, i=probeid\n",
    "    ru = bone.BIGraph.getNCodes(net, [i])\n",
    "\n",
    "    for k_j, j in ids.items():\n",
    "        rel=[k for k in set(ru.keys()) if j in ru[k].keys()]\n",
    "        if len(rel)==1:\n",
    "            if int(rel[0])==2:\n",
    "                lolo_edges.add((k_i,k_j,rel[0]))\n",
    "lolo_edges"
   ]
  },
  {
   "cell_type": "code",
   "execution_count": 38,
   "id": "163f4b09",
   "metadata": {},
   "outputs": [],
   "source": [
    "\n",
    "\n",
    "contrapositive_edges=[(\"EGFR#983\", \"FBXO7#178\",'4'),(\"ACRBP#717\", \"PHOSPHO1#218\", '2'),(\"FBXO7#178\",\"ACRBP#717\",'2')] # \n",
    "\n",
    "\n",
    "new_edges=list(lolo_edges)+contrapositive_edges\n",
    "\n",
    "\n",
    "\n",
    "\n",
    "for f, t, r in new_edges:\n",
    "\n",
    "    r=str(r)\n",
    "    if r=='2':\n",
    "\n",
    "        R.add_edge(f, t, rel='2', color='navy',arrows={'to':{'enabled':True, 'type':'arrow'}})  \n",
    "        R.add_node(f, label=genes[f].pretty(), size=5*(f.count(\"#\")), color=genes[f].color)\n",
    "        R.add_node(t, label=genes[t].pretty(), size=5*(t.count(\"#\")),color=genes[t].color)\n",
    "\n",
    "\n",
    "    elif r=='4':\n",
    "        R.add_edge(f, t, rel='4', color='red')  \n",
    "        R.add_node(f, label=genes[f].pretty(), size=5*(f.count(\"#\")),color=genes[f].color)\n",
    "        R.add_node(t, label=genes[t].pretty(), size=5*(t.count(\"#\")),color=genes[t].color)    \n"
   ]
  },
  {
   "cell_type": "code",
   "execution_count": 39,
   "id": "a606a564",
   "metadata": {},
   "outputs": [
    {
     "data": {
      "text/html": [
       "\n",
       "        <iframe\n",
       "            width=\"500px\"\n",
       "            height=\"500px\"\n",
       "            src=\"final_subbin-w_contrapositive.html\"\n",
       "            frameborder=\"0\"\n",
       "            allowfullscreen\n",
       "            \n",
       "        ></iframe>\n",
       "        "
      ],
      "text/plain": [
       "<IPython.lib.display.IFrame at 0x7f379f09f340>"
      ]
     },
     "execution_count": 39,
     "metadata": {},
     "output_type": "execute_result"
    }
   ],
   "source": [
    "\n",
    "\n",
    "\n",
    "nt = Network(\"500px\", \"500px\", heading=\"Boolean_subnet\", notebook=True,cdn_resources='in_line',directed=True)\n",
    "nt.from_nx(R)\n",
    "\n",
    "\n",
    "nt.show(\"final_subbin-w_contrapositive.html\")\n"
   ]
  }
 ],
 "metadata": {
  "kernelspec": {
   "display_name": "Python 3 (ipykernel)",
   "language": "python",
   "name": "python3"
  },
  "language_info": {
   "codemirror_mode": {
    "name": "ipython",
    "version": 3
   },
   "file_extension": ".py",
   "mimetype": "text/x-python",
   "name": "python",
   "nbconvert_exporter": "python",
   "pygments_lexer": "ipython3",
   "version": "3.8.1"
  }
 },
 "nbformat": 4,
 "nbformat_minor": 5
}
